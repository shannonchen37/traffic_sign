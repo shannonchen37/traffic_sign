{
 "cells": [
  {
   "cell_type": "code",
   "execution_count": 1,
   "metadata": {},
   "outputs": [],
   "source": [
    "import numpy as np\n",
    "import matplotlib.pyplot as plt\n",
    "import os\n",
    "import pandas as pd\n",
    "import cv2\n",
    "from PIL import Image\n",
    "from sklearn.metrics import accuracy_score"
   ]
  },
  {
   "cell_type": "code",
   "execution_count": 2,
   "metadata": {},
   "outputs": [],
   "source": [
    "train_path = './Dataset_2/Train/'\n",
    "test_path = 'Dataset_2/Test/'\n",
    "data_dir = './Dataset_2'\n",
    "\n",
    "train_lable = 'Dataset_2/Train.csv'\n",
    "test_lable = 'Dataset_2/Test.csv'"
   ]
  },
  {
   "cell_type": "code",
   "execution_count": 3,
   "metadata": {},
   "outputs": [
    {
     "name": "stdout",
     "output_type": "stream",
     "text": [
      "43\n",
      "['12', '16', '19', '32', '28', '30', '40', '24', '4', '2', '14', '38', '9', '20', '3', '41', '7', '0', '17', '39', '34', '22', '33', '8', '42', '1', '5', '27', '31', '26', '10', '25', '35', '6', '36', '15', '37', '23', '21', '18', '11', '29', '13']\n"
     ]
    }
   ],
   "source": [
    "NUM_CATEGORIES = len(os.listdir(train_path))\n",
    "NAME_CATEGORIES = os.listdir(train_path)\n",
    "print(NUM_CATEGORIES)\n",
    "print(NAME_CATEGORIES)"
   ]
  },
  {
   "cell_type": "code",
   "execution_count": 4,
   "metadata": {},
   "outputs": [],
   "source": [
    "# Resizing the images to 30x30x3\n",
    "IMG_HEIGHT = 30\n",
    "IMG_WIDTH = 30\n",
    "channels = 3"
   ]
  },
  {
   "cell_type": "code",
   "execution_count": 5,
   "metadata": {},
   "outputs": [],
   "source": [
    "# move resize\n",
    "image_data = []\n",
    "image_labels = []\n",
    "\n",
    "for i in range(NUM_CATEGORIES):\n",
    "    path = data_dir + '/Train/' + str(i)\n",
    "    images = os.listdir(path)\n",
    "    for img in images:\n",
    "        try:\n",
    "            image = cv2.imread(path + '/' + img)\n",
    "            image_fromarray = Image.fromarray(image, 'RGB')\n",
    "            #列表不够整齐，如果创建多维列表，子列表中的元素得个数一致，如果不一致，那么默认还是一维列表，把子列表当做元素而已\n",
    "            resize_image = image_fromarray.resize((IMG_HEIGHT, IMG_WIDTH))      \n",
    "            imgray = cv2.cvtColor(np.array(resize_image), cv2.COLOR_BGR2GRAY)\n",
    "            flat_arr=imgray.ravel()\n",
    "            image_data.append(flat_arr)\n",
    "            image_labels.append(i)\n",
    "        except:\n",
    "            print(\"Error in \" + img)"
   ]
  },
  {
   "cell_type": "code",
   "execution_count": 6,
   "metadata": {},
   "outputs": [],
   "source": [
    "test = pd.read_csv(data_dir + '/Test.csv')\n",
    "labels = test[\"ClassId\"].values\n",
    "imgs = test[\"Path\"].values\n",
    "test_data =[]\n",
    "for img in imgs:\n",
    "    try:\n",
    "        image = cv2.imread(data_dir + '/' +img)\n",
    "        image_fromarray = Image.fromarray(image, 'RGB')\n",
    "        resize_image = image_fromarray.resize((IMG_HEIGHT, IMG_WIDTH))\n",
    "        imgray = cv2.cvtColor(np.array(resize_image), cv2.COLOR_BGR2GRAY)\n",
    "        flat_arr=imgray.ravel()\n",
    "        test_data.append(np.array(flat_arr))\n",
    "    except:\n",
    "        print(\"Error in \" + img)"
   ]
  },
  {
   "cell_type": "code",
   "execution_count": 7,
   "metadata": {},
   "outputs": [],
   "source": [
    "X_test = np.array(test_data)\n",
    "X_test = X_test/255"
   ]
  },
  {
   "cell_type": "code",
   "execution_count": 8,
   "metadata": {},
   "outputs": [],
   "source": [
    "img_dict={\"images\":np.array(imgray),\"data\":np.array(image_data),\"target\":np.array(image_labels)}\n",
    "train = img_dict['data']/255"
   ]
  },
  {
   "cell_type": "code",
   "execution_count": 9,
   "metadata": {},
   "outputs": [],
   "source": [
    "from sklearn.model_selection import train_test_split\n",
    "X_train, X_val, y_train, y_val = train_test_split(train, img_dict['target'], test_size=0.3, random_state=0, shuffle=True)"
   ]
  },
  {
   "cell_type": "code",
   "execution_count": 12,
   "metadata": {},
   "outputs": [
    {
     "data": {
      "text/plain": [
       "array([[-4.1755464 , -0.95518154, -0.01031487, ...,  0.23606274,\n",
       "         0.03893254, -0.11832849],\n",
       "       [-4.68560555,  0.5936293 ,  0.23502063, ..., -0.01153481,\n",
       "         0.24389798,  0.02797636],\n",
       "       [ 1.69043953, -3.29197593, -2.74476812, ..., -0.11696644,\n",
       "        -0.00920289, -0.61913339],\n",
       "       ...,\n",
       "       [-2.28786161, -4.83753363,  1.36597034, ..., -0.12577415,\n",
       "        -0.2078356 ,  0.35491813],\n",
       "       [-0.06144099,  1.80547103,  2.37042   , ...,  0.09399711,\n",
       "         0.16800563, -0.16032222],\n",
       "       [-4.36964589, -3.57695685, -0.38318746, ...,  0.09788091,\n",
       "        -0.10528912, -0.09641381]])"
      ]
     },
     "execution_count": 12,
     "metadata": {},
     "output_type": "execute_result"
    }
   ],
   "source": [
    "# 95% of variance\n",
    "from sklearn.decomposition import PCA\n",
    "pca = PCA(n_components = 0.95)\n",
    "pca.fit(X_train)\n",
    "reduced = pca.transform(X_train)\n",
    "reduced"
   ]
  },
  {
   "attachments": {},
   "cell_type": "markdown",
   "metadata": {},
   "source": [
    "# 90-100"
   ]
  },
  {
   "cell_type": "code",
   "execution_count": 16,
   "metadata": {},
   "outputs": [
    {
     "name": "stdout",
     "output_type": "stream",
     "text": [
      "dealing with k = 90\n",
      "dealing with k = 91\n",
      "dealing with k = 92\n",
      "dealing with k = 93\n",
      "dealing with k = 94\n",
      "dealing with k = 95\n",
      "dealing with k = 96\n",
      "dealing with k = 97\n",
      "dealing with k = 98\n",
      "dealing with k = 99\n",
      "dealing with k = 100\n"
     ]
    }
   ],
   "source": [
    "from sklearn.decomposition import PCA\n",
    "from sklearn.svm import SVC\n",
    "from sklearn.neighbors import KNeighborsClassifier\n",
    "components_pca=pd.DataFrame(columns=[\"n_components\",\"SVC_score\",\"knn_score\"])\n",
    "\n",
    "for i in range(90,101):\n",
    "    print(\"dealing with k = {}\".format(i))\n",
    "    pca=PCA(n_components=i,whiten=True,random_state=0).fit(X_train)\n",
    "    X_train_pca=pca.transform(X_train)\n",
    "    X_val_pca=pca.transform(X_val)\n",
    "\n",
    "    clf=SVC(kernel=\"linear\",random_state=0)\n",
    "    clf.fit(X_train_pca, y_train)\n",
    "    clf_predict=clf.predict(X_val_pca)\n",
    "    \n",
    "    knn=KNeighborsClassifier(n_neighbors=9)\n",
    "    knn.fit(X_train_pca,y_train)\n",
    "    knn_predict=knn.predict(X_val_pca)\n",
    "    components_pca=components_pca.append([{\"n_components\":i+1,\"SVC_score\":accuracy_score(y_val,clf_predict),\"knn_score\":accuracy_score(y_val,knn_predict)}], ignore_index=True)"
   ]
  },
  {
   "cell_type": "code",
   "execution_count": 17,
   "metadata": {},
   "outputs": [
    {
     "data": {
      "text/html": [
       "<div>\n",
       "<style scoped>\n",
       "    .dataframe tbody tr th:only-of-type {\n",
       "        vertical-align: middle;\n",
       "    }\n",
       "\n",
       "    .dataframe tbody tr th {\n",
       "        vertical-align: top;\n",
       "    }\n",
       "\n",
       "    .dataframe thead th {\n",
       "        text-align: right;\n",
       "    }\n",
       "</style>\n",
       "<table border=\"1\" class=\"dataframe\">\n",
       "  <thead>\n",
       "    <tr style=\"text-align: right;\">\n",
       "      <th></th>\n",
       "      <th>n_components</th>\n",
       "      <th>SVC_score</th>\n",
       "      <th>knn_score</th>\n",
       "    </tr>\n",
       "  </thead>\n",
       "  <tbody>\n",
       "    <tr>\n",
       "      <th>0</th>\n",
       "      <td>91</td>\n",
       "      <td>0.915328</td>\n",
       "      <td>0.812548</td>\n",
       "    </tr>\n",
       "    <tr>\n",
       "      <th>1</th>\n",
       "      <td>92</td>\n",
       "      <td>0.915838</td>\n",
       "      <td>0.814163</td>\n",
       "    </tr>\n",
       "    <tr>\n",
       "      <th>2</th>\n",
       "      <td>93</td>\n",
       "      <td>0.913202</td>\n",
       "      <td>0.812718</td>\n",
       "    </tr>\n",
       "    <tr>\n",
       "      <th>3</th>\n",
       "      <td>94</td>\n",
       "      <td>0.916093</td>\n",
       "      <td>0.809317</td>\n",
       "    </tr>\n",
       "    <tr>\n",
       "      <th>4</th>\n",
       "      <td>95</td>\n",
       "      <td>0.915753</td>\n",
       "      <td>0.814758</td>\n",
       "    </tr>\n",
       "    <tr>\n",
       "      <th>5</th>\n",
       "      <td>96</td>\n",
       "      <td>0.915413</td>\n",
       "      <td>0.814078</td>\n",
       "    </tr>\n",
       "    <tr>\n",
       "      <th>6</th>\n",
       "      <td>97</td>\n",
       "      <td>0.916348</td>\n",
       "      <td>0.813483</td>\n",
       "    </tr>\n",
       "    <tr>\n",
       "      <th>7</th>\n",
       "      <td>98</td>\n",
       "      <td>0.914478</td>\n",
       "      <td>0.813908</td>\n",
       "    </tr>\n",
       "    <tr>\n",
       "      <th>8</th>\n",
       "      <td>99</td>\n",
       "      <td>0.916858</td>\n",
       "      <td>0.814588</td>\n",
       "    </tr>\n",
       "    <tr>\n",
       "      <th>9</th>\n",
       "      <td>100</td>\n",
       "      <td>0.917283</td>\n",
       "      <td>0.813143</td>\n",
       "    </tr>\n",
       "    <tr>\n",
       "      <th>10</th>\n",
       "      <td>101</td>\n",
       "      <td>0.919918</td>\n",
       "      <td>0.813143</td>\n",
       "    </tr>\n",
       "  </tbody>\n",
       "</table>\n",
       "</div>"
      ],
      "text/plain": [
       "   n_components  SVC_score  knn_score\n",
       "0            91   0.915328   0.812548\n",
       "1            92   0.915838   0.814163\n",
       "2            93   0.913202   0.812718\n",
       "3            94   0.916093   0.809317\n",
       "4            95   0.915753   0.814758\n",
       "5            96   0.915413   0.814078\n",
       "6            97   0.916348   0.813483\n",
       "7            98   0.914478   0.813908\n",
       "8            99   0.916858   0.814588\n",
       "9           100   0.917283   0.813143\n",
       "10          101   0.919918   0.813143"
      ]
     },
     "execution_count": 17,
     "metadata": {},
     "output_type": "execute_result"
    }
   ],
   "source": [
    "components_pca"
   ]
  },
  {
   "cell_type": "code",
   "execution_count": 18,
   "metadata": {},
   "outputs": [
    {
     "data": {
      "text/html": [
       "<div>\n",
       "<style scoped>\n",
       "    .dataframe tbody tr th:only-of-type {\n",
       "        vertical-align: middle;\n",
       "    }\n",
       "\n",
       "    .dataframe tbody tr th {\n",
       "        vertical-align: top;\n",
       "    }\n",
       "\n",
       "    .dataframe thead th {\n",
       "        text-align: right;\n",
       "    }\n",
       "</style>\n",
       "<table border=\"1\" class=\"dataframe\">\n",
       "  <thead>\n",
       "    <tr style=\"text-align: right;\">\n",
       "      <th></th>\n",
       "      <th>n_components</th>\n",
       "      <th>SVC_score</th>\n",
       "      <th>knn_score</th>\n",
       "    </tr>\n",
       "  </thead>\n",
       "  <tbody>\n",
       "    <tr>\n",
       "      <th>4</th>\n",
       "      <td>95</td>\n",
       "      <td>0.915753</td>\n",
       "      <td>0.814758</td>\n",
       "    </tr>\n",
       "  </tbody>\n",
       "</table>\n",
       "</div>"
      ],
      "text/plain": [
       "  n_components  SVC_score  knn_score\n",
       "4           95   0.915753   0.814758"
      ]
     },
     "execution_count": 18,
     "metadata": {},
     "output_type": "execute_result"
    }
   ],
   "source": [
    "components_pca[components_pca['knn_score']==components_pca['knn_score'].max()]"
   ]
  },
  {
   "cell_type": "code",
   "execution_count": 19,
   "metadata": {},
   "outputs": [
    {
     "data": {
      "text/html": [
       "<div>\n",
       "<style scoped>\n",
       "    .dataframe tbody tr th:only-of-type {\n",
       "        vertical-align: middle;\n",
       "    }\n",
       "\n",
       "    .dataframe tbody tr th {\n",
       "        vertical-align: top;\n",
       "    }\n",
       "\n",
       "    .dataframe thead th {\n",
       "        text-align: right;\n",
       "    }\n",
       "</style>\n",
       "<table border=\"1\" class=\"dataframe\">\n",
       "  <thead>\n",
       "    <tr style=\"text-align: right;\">\n",
       "      <th></th>\n",
       "      <th>n_components</th>\n",
       "      <th>SVC_score</th>\n",
       "      <th>knn_score</th>\n",
       "    </tr>\n",
       "  </thead>\n",
       "  <tbody>\n",
       "    <tr>\n",
       "      <th>10</th>\n",
       "      <td>101</td>\n",
       "      <td>0.919918</td>\n",
       "      <td>0.813143</td>\n",
       "    </tr>\n",
       "  </tbody>\n",
       "</table>\n",
       "</div>"
      ],
      "text/plain": [
       "   n_components  SVC_score  knn_score\n",
       "10          101   0.919918   0.813143"
      ]
     },
     "execution_count": 19,
     "metadata": {},
     "output_type": "execute_result"
    }
   ],
   "source": [
    "components_pca[components_pca['SVC_score']==components_pca['SVC_score'].max()]"
   ]
  },
  {
   "attachments": {},
   "cell_type": "markdown",
   "metadata": {},
   "source": [
    "# 50-60"
   ]
  },
  {
   "cell_type": "code",
   "execution_count": 24,
   "metadata": {},
   "outputs": [
    {
     "name": "stdout",
     "output_type": "stream",
     "text": [
      "dealing with k = 50\n",
      "dealing with k = 51\n",
      "dealing with k = 52\n",
      "dealing with k = 53\n",
      "dealing with k = 54\n",
      "dealing with k = 55\n",
      "dealing with k = 56\n",
      "dealing with k = 57\n",
      "dealing with k = 58\n",
      "dealing with k = 59\n"
     ]
    }
   ],
   "source": [
    "from sklearn.decomposition import PCA\n",
    "from sklearn.svm import SVC\n",
    "from sklearn.neighbors import KNeighborsClassifier\n",
    "components_pca=pd.DataFrame(columns=[\"n_components\",\"SVC_score\",\"knn_score\"])\n",
    "\n",
    "for i in range(50,60):\n",
    "    print(\"dealing with k = {}\".format(i))\n",
    "    pca=PCA(n_components=i,whiten=True,random_state=0).fit(X_train)\n",
    "    X_train_pca=pca.transform(X_train)\n",
    "    X_val_pca=pca.transform(X_val)\n",
    "\n",
    "    clf=SVC(kernel=\"linear\",random_state=0)\n",
    "    clf.fit(X_train_pca, y_train)\n",
    "    clf_predict=clf.predict(X_val_pca)\n",
    "    \n",
    "    knn=KNeighborsClassifier(n_neighbors=9)\n",
    "    knn.fit(X_train_pca,y_train)\n",
    "    knn_predict=knn.predict(X_val_pca)\n",
    "    components_pca=components_pca.append([{\"n_components\":i+1,\"SVC_score\":accuracy_score(y_val,clf_predict),\"knn_score\":accuracy_score(y_val,knn_predict)}], ignore_index=True)"
   ]
  },
  {
   "cell_type": "code",
   "execution_count": 25,
   "metadata": {},
   "outputs": [
    {
     "data": {
      "text/html": [
       "<div>\n",
       "<style scoped>\n",
       "    .dataframe tbody tr th:only-of-type {\n",
       "        vertical-align: middle;\n",
       "    }\n",
       "\n",
       "    .dataframe tbody tr th {\n",
       "        vertical-align: top;\n",
       "    }\n",
       "\n",
       "    .dataframe thead th {\n",
       "        text-align: right;\n",
       "    }\n",
       "</style>\n",
       "<table border=\"1\" class=\"dataframe\">\n",
       "  <thead>\n",
       "    <tr style=\"text-align: right;\">\n",
       "      <th></th>\n",
       "      <th>n_components</th>\n",
       "      <th>SVC_score</th>\n",
       "      <th>knn_score</th>\n",
       "    </tr>\n",
       "  </thead>\n",
       "  <tbody>\n",
       "    <tr>\n",
       "      <th>0</th>\n",
       "      <td>51</td>\n",
       "      <td>0.871376</td>\n",
       "      <td>0.807107</td>\n",
       "    </tr>\n",
       "    <tr>\n",
       "      <th>1</th>\n",
       "      <td>52</td>\n",
       "      <td>0.873927</td>\n",
       "      <td>0.807192</td>\n",
       "    </tr>\n",
       "    <tr>\n",
       "      <th>2</th>\n",
       "      <td>53</td>\n",
       "      <td>0.874607</td>\n",
       "      <td>0.805577</td>\n",
       "    </tr>\n",
       "    <tr>\n",
       "      <th>3</th>\n",
       "      <td>54</td>\n",
       "      <td>0.882173</td>\n",
       "      <td>0.809827</td>\n",
       "    </tr>\n",
       "    <tr>\n",
       "      <th>4</th>\n",
       "      <td>55</td>\n",
       "      <td>0.883363</td>\n",
       "      <td>0.809062</td>\n",
       "    </tr>\n",
       "    <tr>\n",
       "      <th>5</th>\n",
       "      <td>56</td>\n",
       "      <td>0.883363</td>\n",
       "      <td>0.806767</td>\n",
       "    </tr>\n",
       "    <tr>\n",
       "      <th>6</th>\n",
       "      <td>57</td>\n",
       "      <td>0.884638</td>\n",
       "      <td>0.806342</td>\n",
       "    </tr>\n",
       "    <tr>\n",
       "      <th>7</th>\n",
       "      <td>58</td>\n",
       "      <td>0.887019</td>\n",
       "      <td>0.808297</td>\n",
       "    </tr>\n",
       "    <tr>\n",
       "      <th>8</th>\n",
       "      <td>59</td>\n",
       "      <td>0.889569</td>\n",
       "      <td>0.810423</td>\n",
       "    </tr>\n",
       "    <tr>\n",
       "      <th>9</th>\n",
       "      <td>60</td>\n",
       "      <td>0.891864</td>\n",
       "      <td>0.808127</td>\n",
       "    </tr>\n",
       "  </tbody>\n",
       "</table>\n",
       "</div>"
      ],
      "text/plain": [
       "  n_components  SVC_score  knn_score\n",
       "0           51   0.871376   0.807107\n",
       "1           52   0.873927   0.807192\n",
       "2           53   0.874607   0.805577\n",
       "3           54   0.882173   0.809827\n",
       "4           55   0.883363   0.809062\n",
       "5           56   0.883363   0.806767\n",
       "6           57   0.884638   0.806342\n",
       "7           58   0.887019   0.808297\n",
       "8           59   0.889569   0.810423\n",
       "9           60   0.891864   0.808127"
      ]
     },
     "execution_count": 25,
     "metadata": {},
     "output_type": "execute_result"
    }
   ],
   "source": [
    "components_pca"
   ]
  },
  {
   "attachments": {},
   "cell_type": "markdown",
   "metadata": {},
   "source": [
    "# 100-120"
   ]
  },
  {
   "cell_type": "code",
   "execution_count": 29,
   "metadata": {},
   "outputs": [
    {
     "name": "stdout",
     "output_type": "stream",
     "text": [
      "dealing with k = 100\n",
      "dealing with k = 101\n",
      "dealing with k = 102\n",
      "dealing with k = 103\n",
      "dealing with k = 104\n",
      "dealing with k = 105\n",
      "dealing with k = 106\n",
      "dealing with k = 107\n",
      "dealing with k = 108\n",
      "dealing with k = 109\n",
      "dealing with k = 110\n",
      "dealing with k = 111\n",
      "dealing with k = 112\n",
      "dealing with k = 113\n",
      "dealing with k = 114\n",
      "dealing with k = 115\n",
      "dealing with k = 116\n",
      "dealing with k = 117\n",
      "dealing with k = 118\n",
      "dealing with k = 119\n"
     ]
    }
   ],
   "source": [
    "from sklearn.decomposition import PCA\n",
    "from sklearn.svm import SVC\n",
    "from sklearn.neighbors import KNeighborsClassifier\n",
    "components_pca=pd.DataFrame(columns=[\"n_components\",\"SVC_score\",\"knn_score\"])\n",
    "\n",
    "for i in range(100,120):\n",
    "    print(\"dealing with k = {}\".format(i))\n",
    "    pca=PCA(n_components=i,whiten=True,random_state=0).fit(X_train)\n",
    "    X_train_pca=pca.transform(X_train)\n",
    "    X_val_pca=pca.transform(X_val)\n",
    "\n",
    "    clf=SVC(kernel=\"linear\",random_state=0)\n",
    "    clf.fit(X_train_pca, y_train)\n",
    "    clf_predict=clf.predict(X_val_pca)\n",
    "    \n",
    "    knn=KNeighborsClassifier(n_neighbors=9)\n",
    "    knn.fit(X_train_pca,y_train)\n",
    "    knn_predict=knn.predict(X_val_pca)\n",
    "    components_pca=components_pca.append([{\"n_components\":i+1,\"SVC_score\":accuracy_score(y_val,clf_predict),\"knn_score\":accuracy_score(y_val,knn_predict)}], ignore_index=True)"
   ]
  },
  {
   "cell_type": "code",
   "execution_count": 30,
   "metadata": {},
   "outputs": [
    {
     "data": {
      "text/html": [
       "<div>\n",
       "<style scoped>\n",
       "    .dataframe tbody tr th:only-of-type {\n",
       "        vertical-align: middle;\n",
       "    }\n",
       "\n",
       "    .dataframe tbody tr th {\n",
       "        vertical-align: top;\n",
       "    }\n",
       "\n",
       "    .dataframe thead th {\n",
       "        text-align: right;\n",
       "    }\n",
       "</style>\n",
       "<table border=\"1\" class=\"dataframe\">\n",
       "  <thead>\n",
       "    <tr style=\"text-align: right;\">\n",
       "      <th></th>\n",
       "      <th>n_components</th>\n",
       "      <th>SVC_score</th>\n",
       "      <th>knn_score</th>\n",
       "    </tr>\n",
       "  </thead>\n",
       "  <tbody>\n",
       "    <tr>\n",
       "      <th>0</th>\n",
       "      <td>101</td>\n",
       "      <td>0.917283</td>\n",
       "      <td>0.813143</td>\n",
       "    </tr>\n",
       "    <tr>\n",
       "      <th>1</th>\n",
       "      <td>102</td>\n",
       "      <td>0.919918</td>\n",
       "      <td>0.813143</td>\n",
       "    </tr>\n",
       "    <tr>\n",
       "      <th>2</th>\n",
       "      <td>103</td>\n",
       "      <td>0.917538</td>\n",
       "      <td>0.811528</td>\n",
       "    </tr>\n",
       "    <tr>\n",
       "      <th>3</th>\n",
       "      <td>104</td>\n",
       "      <td>0.917198</td>\n",
       "      <td>0.811443</td>\n",
       "    </tr>\n",
       "    <tr>\n",
       "      <th>4</th>\n",
       "      <td>105</td>\n",
       "      <td>0.920513</td>\n",
       "      <td>0.815523</td>\n",
       "    </tr>\n",
       "    <tr>\n",
       "      <th>5</th>\n",
       "      <td>106</td>\n",
       "      <td>0.918983</td>\n",
       "      <td>0.813313</td>\n",
       "    </tr>\n",
       "    <tr>\n",
       "      <th>6</th>\n",
       "      <td>107</td>\n",
       "      <td>0.915753</td>\n",
       "      <td>0.813228</td>\n",
       "    </tr>\n",
       "    <tr>\n",
       "      <th>7</th>\n",
       "      <td>108</td>\n",
       "      <td>0.918898</td>\n",
       "      <td>0.817394</td>\n",
       "    </tr>\n",
       "    <tr>\n",
       "      <th>8</th>\n",
       "      <td>109</td>\n",
       "      <td>0.919408</td>\n",
       "      <td>0.812378</td>\n",
       "    </tr>\n",
       "    <tr>\n",
       "      <th>9</th>\n",
       "      <td>110</td>\n",
       "      <td>0.918133</td>\n",
       "      <td>0.812803</td>\n",
       "    </tr>\n",
       "    <tr>\n",
       "      <th>10</th>\n",
       "      <td>111</td>\n",
       "      <td>0.920343</td>\n",
       "      <td>0.812803</td>\n",
       "    </tr>\n",
       "    <tr>\n",
       "      <th>11</th>\n",
       "      <td>112</td>\n",
       "      <td>0.918898</td>\n",
       "      <td>0.812548</td>\n",
       "    </tr>\n",
       "    <tr>\n",
       "      <th>12</th>\n",
       "      <td>113</td>\n",
       "      <td>0.919323</td>\n",
       "      <td>0.814163</td>\n",
       "    </tr>\n",
       "    <tr>\n",
       "      <th>13</th>\n",
       "      <td>114</td>\n",
       "      <td>0.919238</td>\n",
       "      <td>0.815523</td>\n",
       "    </tr>\n",
       "    <tr>\n",
       "      <th>14</th>\n",
       "      <td>115</td>\n",
       "      <td>0.916688</td>\n",
       "      <td>0.811103</td>\n",
       "    </tr>\n",
       "    <tr>\n",
       "      <th>15</th>\n",
       "      <td>116</td>\n",
       "      <td>0.920003</td>\n",
       "      <td>0.811868</td>\n",
       "    </tr>\n",
       "    <tr>\n",
       "      <th>16</th>\n",
       "      <td>117</td>\n",
       "      <td>0.918048</td>\n",
       "      <td>0.814673</td>\n",
       "    </tr>\n",
       "    <tr>\n",
       "      <th>17</th>\n",
       "      <td>118</td>\n",
       "      <td>0.919153</td>\n",
       "      <td>0.810848</td>\n",
       "    </tr>\n",
       "    <tr>\n",
       "      <th>18</th>\n",
       "      <td>119</td>\n",
       "      <td>0.920003</td>\n",
       "      <td>0.808722</td>\n",
       "    </tr>\n",
       "    <tr>\n",
       "      <th>19</th>\n",
       "      <td>120</td>\n",
       "      <td>0.921024</td>\n",
       "      <td>0.814673</td>\n",
       "    </tr>\n",
       "  </tbody>\n",
       "</table>\n",
       "</div>"
      ],
      "text/plain": [
       "   n_components  SVC_score  knn_score\n",
       "0           101   0.917283   0.813143\n",
       "1           102   0.919918   0.813143\n",
       "2           103   0.917538   0.811528\n",
       "3           104   0.917198   0.811443\n",
       "4           105   0.920513   0.815523\n",
       "5           106   0.918983   0.813313\n",
       "6           107   0.915753   0.813228\n",
       "7           108   0.918898   0.817394\n",
       "8           109   0.919408   0.812378\n",
       "9           110   0.918133   0.812803\n",
       "10          111   0.920343   0.812803\n",
       "11          112   0.918898   0.812548\n",
       "12          113   0.919323   0.814163\n",
       "13          114   0.919238   0.815523\n",
       "14          115   0.916688   0.811103\n",
       "15          116   0.920003   0.811868\n",
       "16          117   0.918048   0.814673\n",
       "17          118   0.919153   0.810848\n",
       "18          119   0.920003   0.808722\n",
       "19          120   0.921024   0.814673"
      ]
     },
     "execution_count": 30,
     "metadata": {},
     "output_type": "execute_result"
    }
   ],
   "source": [
    "components_pca"
   ]
  },
  {
   "attachments": {},
   "cell_type": "markdown",
   "metadata": {},
   "source": [
    "# 200-210"
   ]
  },
  {
   "cell_type": "code",
   "execution_count": 10,
   "metadata": {},
   "outputs": [
    {
     "name": "stdout",
     "output_type": "stream",
     "text": [
      "dealing with k = 200\n",
      "dealing with k = 201\n",
      "dealing with k = 202\n",
      "dealing with k = 203\n",
      "dealing with k = 204\n",
      "dealing with k = 205\n",
      "dealing with k = 206\n",
      "dealing with k = 207\n",
      "dealing with k = 208\n",
      "dealing with k = 209\n"
     ]
    }
   ],
   "source": [
    "from sklearn.decomposition import PCA\n",
    "from sklearn.svm import SVC\n",
    "from sklearn.neighbors import KNeighborsClassifier\n",
    "components_pca=pd.DataFrame(columns=[\"n_components\",\"SVC_score\",\"knn_score\"])\n",
    "\n",
    "for i in range(200,210):\n",
    "    print(\"dealing with k = {}\".format(i))\n",
    "    pca=PCA(n_components=i,whiten=True,random_state=0).fit(X_train)\n",
    "    X_train_pca=pca.transform(X_train)\n",
    "    X_val_pca=pca.transform(X_val)\n",
    "\n",
    "    clf=SVC(kernel=\"linear\",random_state=0)\n",
    "    clf.fit(X_train_pca, y_train)\n",
    "    clf_predict=clf.predict(X_val_pca)\n",
    "    \n",
    "    knn=KNeighborsClassifier(n_neighbors=9)\n",
    "    knn.fit(X_train_pca,y_train)\n",
    "    knn_predict=knn.predict(X_val_pca)\n",
    "    components_pca=components_pca.append([{\"n_components\":i+1,\"SVC_score\":accuracy_score(y_val,clf_predict),\"knn_score\":accuracy_score(y_val,knn_predict)}], ignore_index=True)"
   ]
  },
  {
   "cell_type": "code",
   "execution_count": 11,
   "metadata": {},
   "outputs": [
    {
     "data": {
      "text/html": [
       "<div>\n",
       "<style scoped>\n",
       "    .dataframe tbody tr th:only-of-type {\n",
       "        vertical-align: middle;\n",
       "    }\n",
       "\n",
       "    .dataframe tbody tr th {\n",
       "        vertical-align: top;\n",
       "    }\n",
       "\n",
       "    .dataframe thead th {\n",
       "        text-align: right;\n",
       "    }\n",
       "</style>\n",
       "<table border=\"1\" class=\"dataframe\">\n",
       "  <thead>\n",
       "    <tr style=\"text-align: right;\">\n",
       "      <th></th>\n",
       "      <th>n_components</th>\n",
       "      <th>SVC_score</th>\n",
       "      <th>knn_score</th>\n",
       "    </tr>\n",
       "  </thead>\n",
       "  <tbody>\n",
       "    <tr>\n",
       "      <th>0</th>\n",
       "      <td>201</td>\n",
       "      <td>0.905466</td>\n",
       "      <td>0.792825</td>\n",
       "    </tr>\n",
       "    <tr>\n",
       "      <th>1</th>\n",
       "      <td>202</td>\n",
       "      <td>0.909972</td>\n",
       "      <td>0.791635</td>\n",
       "    </tr>\n",
       "    <tr>\n",
       "      <th>2</th>\n",
       "      <td>203</td>\n",
       "      <td>0.909887</td>\n",
       "      <td>0.789594</td>\n",
       "    </tr>\n",
       "    <tr>\n",
       "      <th>3</th>\n",
       "      <td>204</td>\n",
       "      <td>0.910227</td>\n",
       "      <td>0.791040</td>\n",
       "    </tr>\n",
       "    <tr>\n",
       "      <th>4</th>\n",
       "      <td>205</td>\n",
       "      <td>0.909122</td>\n",
       "      <td>0.793080</td>\n",
       "    </tr>\n",
       "    <tr>\n",
       "      <th>5</th>\n",
       "      <td>206</td>\n",
       "      <td>0.910397</td>\n",
       "      <td>0.791465</td>\n",
       "    </tr>\n",
       "    <tr>\n",
       "      <th>6</th>\n",
       "      <td>207</td>\n",
       "      <td>0.909717</td>\n",
       "      <td>0.788744</td>\n",
       "    </tr>\n",
       "    <tr>\n",
       "      <th>7</th>\n",
       "      <td>208</td>\n",
       "      <td>0.907507</td>\n",
       "      <td>0.790020</td>\n",
       "    </tr>\n",
       "    <tr>\n",
       "      <th>8</th>\n",
       "      <td>209</td>\n",
       "      <td>0.907592</td>\n",
       "      <td>0.789935</td>\n",
       "    </tr>\n",
       "    <tr>\n",
       "      <th>9</th>\n",
       "      <td>210</td>\n",
       "      <td>0.912097</td>\n",
       "      <td>0.788999</td>\n",
       "    </tr>\n",
       "  </tbody>\n",
       "</table>\n",
       "</div>"
      ],
      "text/plain": [
       "  n_components  SVC_score  knn_score\n",
       "0          201   0.905466   0.792825\n",
       "1          202   0.909972   0.791635\n",
       "2          203   0.909887   0.789594\n",
       "3          204   0.910227   0.791040\n",
       "4          205   0.909122   0.793080\n",
       "5          206   0.910397   0.791465\n",
       "6          207   0.909717   0.788744\n",
       "7          208   0.907507   0.790020\n",
       "8          209   0.907592   0.789935\n",
       "9          210   0.912097   0.788999"
      ]
     },
     "execution_count": 11,
     "metadata": {},
     "output_type": "execute_result"
    }
   ],
   "source": [
    "components_pca"
   ]
  },
  {
   "attachments": {},
   "cell_type": "markdown",
   "metadata": {},
   "source": [
    "# 证明：PCA 优化是凸优化吗？\n",
    "https://stats.stackexchange.com/questions/301532/is-pca-optimization-convex"
   ]
  },
  {
   "attachments": {},
   "cell_type": "markdown",
   "metadata": {},
   "source": [
    "# final"
   ]
  },
  {
   "cell_type": "code",
   "execution_count": 22,
   "metadata": {},
   "outputs": [],
   "source": [
    "from sklearn.decomposition import PCA\n",
    "from sklearn.svm import SVC\n",
    "from sklearn.neighbors import KNeighborsClassifier\n",
    "components_pca=pd.DataFrame(columns=[\"n_components\",\"SVC_score\",\"knn_score\",\"RandomForest_score\",\"GaussianNB_score\",\"Adaboost_score\"])\n"
   ]
  },
  {
   "cell_type": "code",
   "execution_count": 23,
   "metadata": {},
   "outputs": [
    {
     "data": {
      "text/html": [
       "<div>\n",
       "<style scoped>\n",
       "    .dataframe tbody tr th:only-of-type {\n",
       "        vertical-align: middle;\n",
       "    }\n",
       "\n",
       "    .dataframe tbody tr th {\n",
       "        vertical-align: top;\n",
       "    }\n",
       "\n",
       "    .dataframe thead th {\n",
       "        text-align: right;\n",
       "    }\n",
       "</style>\n",
       "<table border=\"1\" class=\"dataframe\">\n",
       "  <thead>\n",
       "    <tr style=\"text-align: right;\">\n",
       "      <th></th>\n",
       "      <th>n_components</th>\n",
       "      <th>SVC_score</th>\n",
       "      <th>knn_score</th>\n",
       "      <th>RandomForest_score</th>\n",
       "      <th>GaussianNB_score</th>\n",
       "      <th>Adaboost_score</th>\n",
       "    </tr>\n",
       "  </thead>\n",
       "  <tbody>\n",
       "  </tbody>\n",
       "</table>\n",
       "</div>"
      ],
      "text/plain": [
       "Empty DataFrame\n",
       "Columns: [n_components, SVC_score, knn_score, RandomForest_score, GaussianNB_score, Adaboost_score]\n",
       "Index: []"
      ]
     },
     "execution_count": 23,
     "metadata": {},
     "output_type": "execute_result"
    }
   ],
   "source": [
    "components_pca"
   ]
  },
  {
   "attachments": {},
   "cell_type": "markdown",
   "metadata": {},
   "source": [
    "# remain to deal with"
   ]
  }
 ],
 "metadata": {
  "kernelspec": {
   "display_name": "traffic_sign",
   "language": "python",
   "name": "python3"
  },
  "language_info": {
   "codemirror_mode": {
    "name": "ipython",
    "version": 3
   },
   "file_extension": ".py",
   "mimetype": "text/x-python",
   "name": "python",
   "nbconvert_exporter": "python",
   "pygments_lexer": "ipython3",
   "version": "3.7.16"
  },
  "orig_nbformat": 4,
  "vscode": {
   "interpreter": {
    "hash": "e4cb27eaf2aac4817cc788cae675b835755493b0c1d654b08ba23bc5c99a0714"
   }
  }
 },
 "nbformat": 4,
 "nbformat_minor": 2
}
