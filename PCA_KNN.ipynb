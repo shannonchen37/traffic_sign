{
 "cells": [
  {
   "cell_type": "code",
   "execution_count": 1,
   "metadata": {},
   "outputs": [],
   "source": [
    "import numpy as np\n",
    "import matplotlib.pyplot as plt\n",
    "import os\n",
    "import pandas as pd\n",
    "import cv2\n",
    "from PIL import Image\n",
    "from sklearn.model_selection import train_test_split\n",
    "from sklearn.naive_bayes import GaussianNB\n",
    "from sklearn.neighbors import KNeighborsClassifier\n",
    "from sklearn.metrics import accuracy_score\n",
    "from sklearn.svm import SVC\n",
    "from sklearn.decomposition import PCA"
   ]
  },
  {
   "cell_type": "code",
   "execution_count": 2,
   "metadata": {},
   "outputs": [],
   "source": [
    "train_path = './Dataset_2/Train/'\n",
    "test_path = 'Dataset_2/Test/'\n",
    "data_dir = './Dataset_2'\n",
    "\n",
    "train_lable = 'Dataset_2/Train.csv'\n",
    "test_lable = 'Dataset_2/Test.csv'"
   ]
  },
  {
   "cell_type": "code",
   "execution_count": 3,
   "metadata": {},
   "outputs": [
    {
     "name": "stdout",
     "output_type": "stream",
     "text": [
      "43\n",
      "['12', '16', '19', '32', '28', '30', '40', '24', '4', '2', '14', '38', '9', '20', '3', '41', '7', '0', '17', '39', '34', '22', '33', '8', '42', '1', '5', '27', '31', '26', '10', '25', '35', '6', '36', '15', '37', '23', '21', '18', '11', '29', '13']\n"
     ]
    }
   ],
   "source": [
    "NUM_CATEGORIES = len(os.listdir(train_path))\n",
    "NAME_CATEGORIES = os.listdir(train_path)\n",
    "print(NUM_CATEGORIES)\n",
    "print(NAME_CATEGORIES)"
   ]
  },
  {
   "cell_type": "code",
   "execution_count": 4,
   "metadata": {},
   "outputs": [],
   "source": [
    "# Resizing the images to 30x30x3\n",
    "IMG_HEIGHT = 30\n",
    "IMG_WIDTH = 30\n",
    "channels = 3"
   ]
  },
  {
   "cell_type": "code",
   "execution_count": 5,
   "metadata": {},
   "outputs": [],
   "source": [
    "# move resize\n",
    "image_data = []\n",
    "image_labels = []\n",
    "\n",
    "for i in range(NUM_CATEGORIES):\n",
    "    path = data_dir + '/Train/' + str(i)\n",
    "    images = os.listdir(path)\n",
    "\n",
    "    for img in images:\n",
    "        try:\n",
    "            image = cv2.imread(path + '/' + img)\n",
    "            image_fromarray = Image.fromarray(image, 'RGB')\n",
    "            #列表不够整齐，如果创建多维列表，子列表中的元素得个数一致，如果不一致，那么默认还是一维列表，把子列表当做元素而已\n",
    "            resize_image = image_fromarray.resize((IMG_HEIGHT, IMG_WIDTH))      \n",
    "            imgray = cv2.cvtColor(np.array(resize_image), cv2.COLOR_BGR2GRAY)\n",
    "            flat_arr=imgray.ravel()\n",
    "            # image_data.append(np.array(imgray))\n",
    "            image_data.append(flat_arr)\n",
    "            image_labels.append(i)\n",
    "        except:\n",
    "            print(\"Error in \" + img)"
   ]
  },
  {
   "cell_type": "code",
   "execution_count": 6,
   "metadata": {},
   "outputs": [],
   "source": [
    "img_dict={\"images\":np.array(imgray),\"data\":np.array(image_data),\"target\":np.array(image_labels)}"
   ]
  },
  {
   "cell_type": "code",
   "execution_count": 7,
   "metadata": {},
   "outputs": [],
   "source": [
    "img_dict['data']\n",
    "train = img_dict['data']/255"
   ]
  },
  {
   "cell_type": "code",
   "execution_count": 8,
   "metadata": {},
   "outputs": [
    {
     "data": {
      "text/plain": [
       "array([ 0,  0,  0, ..., 42, 42, 42])"
      ]
     },
     "execution_count": 8,
     "metadata": {},
     "output_type": "execute_result"
    }
   ],
   "source": [
    "img_dict['target']"
   ]
  },
  {
   "cell_type": "code",
   "execution_count": 9,
   "metadata": {},
   "outputs": [],
   "source": [
    "X_train, X_test, y_train, y_test = train_test_split(train, img_dict['target'], test_size=0.3, random_state=0, shuffle=True)"
   ]
  },
  {
   "cell_type": "code",
   "execution_count": 10,
   "metadata": {},
   "outputs": [
    {
     "name": "stdout",
     "output_type": "stream",
     "text": [
      "(27446, 900)\n",
      "(11763, 900)\n",
      "(27446,)\n",
      "(11763,)\n"
     ]
    }
   ],
   "source": [
    "print(X_train.shape)\n",
    "print(X_test.shape)\n",
    "print(y_train.shape)\n",
    "print(y_test.shape)"
   ]
  },
  {
   "cell_type": "code",
   "execution_count": 11,
   "metadata": {},
   "outputs": [
    {
     "data": {
      "text/plain": [
       "array([[0.1372549 , 0.12941176, 0.12941176, ..., 0.12156863, 0.11764706,\n",
       "        0.11372549],\n",
       "       [0.23137255, 0.15294118, 0.1254902 , ..., 0.05882353, 0.05490196,\n",
       "        0.07843137],\n",
       "       [0.10196078, 0.09803922, 0.09411765, ..., 0.09019608, 0.09411765,\n",
       "        0.09411765],\n",
       "       ...,\n",
       "       [0.06666667, 0.07058824, 0.11372549, ..., 0.18039216, 0.17254902,\n",
       "        0.16862745],\n",
       "       [0.23137255, 0.22745098, 0.25490196, ..., 0.40392157, 0.4       ,\n",
       "        0.39215686],\n",
       "       [0.05490196, 0.05098039, 0.05490196, ..., 0.05098039, 0.05490196,\n",
       "        0.05490196]])"
      ]
     },
     "execution_count": 11,
     "metadata": {},
     "output_type": "execute_result"
    }
   ],
   "source": [
    "X_train"
   ]
  },
  {
   "attachments": {},
   "cell_type": "markdown",
   "metadata": {},
   "source": [
    "# GaussianNB"
   ]
  },
  {
   "cell_type": "code",
   "execution_count": 12,
   "metadata": {},
   "outputs": [],
   "source": [
    "gnb = GaussianNB().fit(X_train,y_train)"
   ]
  },
  {
   "cell_type": "code",
   "execution_count": 13,
   "metadata": {},
   "outputs": [
    {
     "name": "stdout",
     "output_type": "stream",
     "text": [
      "准确率： 0.12173765195953413\n"
     ]
    }
   ],
   "source": [
    "score = gnb.score(X_test,y_test)\n",
    "print('准确率：',score)"
   ]
  },
  {
   "cell_type": "code",
   "execution_count": 14,
   "metadata": {},
   "outputs": [
    {
     "data": {
      "text/plain": [
       "array([34, 31,  6, ..., 32,  8,  6])"
      ]
     },
     "execution_count": 14,
     "metadata": {},
     "output_type": "execute_result"
    }
   ],
   "source": [
    "y_pre = gnb.predict(X_test) #查看预测结果\n",
    "y_pre"
   ]
  },
  {
   "cell_type": "code",
   "execution_count": 15,
   "metadata": {},
   "outputs": [
    {
     "name": "stdout",
     "output_type": "stream",
     "text": [
      "[False False False ... False False False]\n"
     ]
    }
   ],
   "source": [
    "print(y_pre == y_test)"
   ]
  },
  {
   "cell_type": "code",
   "execution_count": 16,
   "metadata": {},
   "outputs": [
    {
     "data": {
      "text/plain": [
       "array([[3.81340617e-228, 4.31093302e-195, 0.00000000e+000, ...,\n",
       "        2.11138640e-273, 0.00000000e+000, 0.00000000e+000],\n",
       "       [2.50452721e-217, 7.38117599e-158, 9.95930883e-098, ...,\n",
       "        3.01282027e-135, 2.37456977e-102, 4.05291385e-093],\n",
       "       [0.00000000e+000, 0.00000000e+000, 0.00000000e+000, ...,\n",
       "        0.00000000e+000, 0.00000000e+000, 7.98448695e-230],\n",
       "       ...,\n",
       "       [4.96784757e-256, 1.81955005e-155, 3.34154450e-083, ...,\n",
       "        1.51620325e-164, 2.33667619e-104, 0.00000000e+000],\n",
       "       [8.69855929e-318, 6.06797940e-201, 3.49413295e-134, ...,\n",
       "        8.49704032e-173, 2.86715634e-141, 1.25939016e-080],\n",
       "       [0.00000000e+000, 0.00000000e+000, 9.98070062e-276, ...,\n",
       "        1.09551909e-280, 6.77061930e-288, 8.21210678e-071]])"
      ]
     },
     "execution_count": 16,
     "metadata": {},
     "output_type": "execute_result"
    }
   ],
   "source": [
    "prob = gnb.predict_proba(X_test) # 查看预测的概率结果\n",
    "prob #每个样本在每个标签下的概率结果"
   ]
  },
  {
   "cell_type": "code",
   "execution_count": 17,
   "metadata": {},
   "outputs": [
    {
     "data": {
      "text/plain": [
       "array([[ 37,   1,   4, ...,   0,   1,   0],\n",
       "       [137,  98,  38, ...,   0,  15,   0],\n",
       "       [ 27, 117,  63, ...,   0,   9,   0],\n",
       "       ...,\n",
       "       [  3,   8,   5, ...,   2,   4,   0],\n",
       "       [  4,   5,   0, ...,   0,  26,   0],\n",
       "       [  0,   0,   0, ...,   0,   0,   0]])"
      ]
     },
     "execution_count": 17,
     "metadata": {},
     "output_type": "execute_result"
    }
   ],
   "source": [
    "# 使用混淆矩阵查看贝叶斯的分类结果\n",
    "from sklearn.metrics import confusion_matrix as CM\n",
    "CM(y_test,y_pre)"
   ]
  },
  {
   "attachments": {},
   "cell_type": "markdown",
   "metadata": {},
   "source": [
    "# KNeighborsClassifier"
   ]
  },
  {
   "cell_type": "code",
   "execution_count": 18,
   "metadata": {},
   "outputs": [
    {
     "name": "stdout",
     "output_type": "stream",
     "text": [
      "k = 1, acc = 0.9060613788999405\n",
      "k = 3, acc = 0.860154722434753\n",
      "k = 5, acc = 0.8301453710788065\n",
      "k = 7, acc = 0.8030264388336309\n",
      "k = 9, acc = 0.7806681968885488\n"
     ]
    }
   ],
   "source": [
    "n_neighbors = [1,3,5,7,9]\n",
    "for k in n_neighbors:\n",
    "    knn=KNeighborsClassifier(n_neighbors=k)###构建邻居值为1的knn分类器\n",
    "    knn.fit(X_train,y_train)###训练模型\n",
    "    prediction=knn.predict(X_test)###对测试集进行预测\n",
    "    print(\"k = {}, acc = {}\".format(k,accuracy_score(y_test,prediction)))"
   ]
  },
  {
   "attachments": {},
   "cell_type": "markdown",
   "metadata": {},
   "source": [
    "# SVM"
   ]
  },
  {
   "cell_type": "code",
   "execution_count": 19,
   "metadata": {},
   "outputs": [
    {
     "name": "stdout",
     "output_type": "stream",
     "text": [
      "0.9380260137719969\n"
     ]
    }
   ],
   "source": [
    "clf = SVC(kernel=\"linear\",random_state=0)\n",
    "clf.fit(X_train, y_train)#训练\n",
    "y_predict = clf.predict(X_test)#预测\n",
    "print(accuracy_score(y_test, y_predict))#评分"
   ]
  },
  {
   "attachments": {},
   "cell_type": "markdown",
   "metadata": {},
   "source": [
    "# randomforest\n"
   ]
  },
  {
   "cell_type": "code",
   "execution_count": null,
   "metadata": {},
   "outputs": [],
   "source": [
    "from sklearn.tree import DecisionTreeClassifier\n",
    "from sklearn.ensemble import RandomForestClassifier\n",
    "\n",
    "dtc = DecisionTreeClassifier(random_state=0)\n",
    "rfc = RandomForestClassifier(random_state=0)\n",
    "dtc = dtc.fit(X_train,y_train)\n",
    "rfc = rfc.fit(X_train,y_train)\n",
    "score_c = clf.score(X_test,y_test)\n",
    "score_r = rfc.score(X_test,y_test)\n",
    "print(score)"
   ]
  },
  {
   "attachments": {},
   "cell_type": "markdown",
   "metadata": {},
   "source": [
    "# AFTER PCA"
   ]
  },
  {
   "cell_type": "code",
   "execution_count": 26,
   "metadata": {},
   "outputs": [
    {
     "name": "stdout",
     "output_type": "stream",
     "text": [
      "0.8066819688854884\n"
     ]
    }
   ],
   "source": [
    "pca=PCA(n_components=100,whiten=True,random_state=0).fit(X_train)\n",
    "X_train_pca=pca.transform(X_train)\n",
    "X_test_pca=pca.transform(X_test)\n",
    "knn=KNeighborsClassifier(n_neighbors=10)###构建邻居值为1的knn分类器\n",
    "knn.fit(X_train_pca,y_train)\n",
    "knn_predict=knn.predict(X_test_pca)###对测试集进行预测\n",
    "print(accuracy_score(y_test,knn_predict))"
   ]
  },
  {
   "cell_type": "code",
   "execution_count": 21,
   "metadata": {},
   "outputs": [
    {
     "name": "stdout",
     "output_type": "stream",
     "text": [
      "0.9172830060358752\n"
     ]
    }
   ],
   "source": [
    "pca=PCA(n_components=100,whiten=True,random_state=0).fit(X_train)\n",
    "X_train_pca=pca.transform(X_train)\n",
    "X_test_pca=pca.transform(X_test)\n",
    "clf=SVC(kernel=\"linear\",random_state=0)\n",
    "clf.fit(X_train_pca, y_train)#训练\n",
    "clf_predict=clf.predict(X_test_pca)\n",
    "print(accuracy_score(y_test,clf_predict))"
   ]
  },
  {
   "cell_type": "code",
   "execution_count": 22,
   "metadata": {},
   "outputs": [],
   "source": [
    "components_pca=pd.DataFrame(columns=[\"n_components\",\"SVC_score\",\"knn_score\"])\n",
    "for i in range(100):\n",
    "    pca=PCA(n_components=i+1,whiten=True,random_state=0).fit(X_train)\n",
    "    X_train_pca=pca.transform(X_train)\n",
    "    X_test_pca=pca.transform(X_test)\n",
    "    clf=SVC(kernel=\"linear\",random_state=0)\n",
    "    clf.fit(X_train_pca, y_train)\n",
    "    clf_predict=clf.predict(X_test_pca)\n",
    "    knn=KNeighborsClassifier(n_neighbors=10)\n",
    "    knn.fit(X_train_pca,y_train)\n",
    "    knn_predict=knn.predict(X_test_pca)\n",
    "    components_pca=components_pca.append([{\"n_components\":i+1,\"SVC_score\":accuracy_score(y_test,clf_predict),\"knn_score\":accuracy_score(y_test,knn_predict)}], ignore_index=True)"
   ]
  },
  {
   "cell_type": "code",
   "execution_count": 23,
   "metadata": {},
   "outputs": [
    {
     "data": {
      "text/html": [
       "<div>\n",
       "<style scoped>\n",
       "    .dataframe tbody tr th:only-of-type {\n",
       "        vertical-align: middle;\n",
       "    }\n",
       "\n",
       "    .dataframe tbody tr th {\n",
       "        vertical-align: top;\n",
       "    }\n",
       "\n",
       "    .dataframe thead th {\n",
       "        text-align: right;\n",
       "    }\n",
       "</style>\n",
       "<table border=\"1\" class=\"dataframe\">\n",
       "  <thead>\n",
       "    <tr style=\"text-align: right;\">\n",
       "      <th></th>\n",
       "      <th>n_components</th>\n",
       "      <th>SVC_score</th>\n",
       "      <th>knn_score</th>\n",
       "    </tr>\n",
       "  </thead>\n",
       "  <tbody>\n",
       "    <tr>\n",
       "      <th>0</th>\n",
       "      <td>1</td>\n",
       "      <td>0.086458</td>\n",
       "      <td>0.070730</td>\n",
       "    </tr>\n",
       "    <tr>\n",
       "      <th>1</th>\n",
       "      <td>2</td>\n",
       "      <td>0.093939</td>\n",
       "      <td>0.203860</td>\n",
       "    </tr>\n",
       "    <tr>\n",
       "      <th>2</th>\n",
       "      <td>3</td>\n",
       "      <td>0.097934</td>\n",
       "      <td>0.361727</td>\n",
       "    </tr>\n",
       "    <tr>\n",
       "      <th>3</th>\n",
       "      <td>4</td>\n",
       "      <td>0.103970</td>\n",
       "      <td>0.430842</td>\n",
       "    </tr>\n",
       "    <tr>\n",
       "      <th>4</th>\n",
       "      <td>5</td>\n",
       "      <td>0.111366</td>\n",
       "      <td>0.505313</td>\n",
       "    </tr>\n",
       "    <tr>\n",
       "      <th>...</th>\n",
       "      <td>...</td>\n",
       "      <td>...</td>\n",
       "      <td>...</td>\n",
       "    </tr>\n",
       "    <tr>\n",
       "      <th>95</th>\n",
       "      <td>96</td>\n",
       "      <td>0.915413</td>\n",
       "      <td>0.809572</td>\n",
       "    </tr>\n",
       "    <tr>\n",
       "      <th>96</th>\n",
       "      <td>97</td>\n",
       "      <td>0.916348</td>\n",
       "      <td>0.808467</td>\n",
       "    </tr>\n",
       "    <tr>\n",
       "      <th>97</th>\n",
       "      <td>98</td>\n",
       "      <td>0.914478</td>\n",
       "      <td>0.806512</td>\n",
       "    </tr>\n",
       "    <tr>\n",
       "      <th>98</th>\n",
       "      <td>99</td>\n",
       "      <td>0.916858</td>\n",
       "      <td>0.807617</td>\n",
       "    </tr>\n",
       "    <tr>\n",
       "      <th>99</th>\n",
       "      <td>100</td>\n",
       "      <td>0.917283</td>\n",
       "      <td>0.806682</td>\n",
       "    </tr>\n",
       "  </tbody>\n",
       "</table>\n",
       "<p>100 rows × 3 columns</p>\n",
       "</div>"
      ],
      "text/plain": [
       "   n_components  SVC_score  knn_score\n",
       "0             1   0.086458   0.070730\n",
       "1             2   0.093939   0.203860\n",
       "2             3   0.097934   0.361727\n",
       "3             4   0.103970   0.430842\n",
       "4             5   0.111366   0.505313\n",
       "..          ...        ...        ...\n",
       "95           96   0.915413   0.809572\n",
       "96           97   0.916348   0.808467\n",
       "97           98   0.914478   0.806512\n",
       "98           99   0.916858   0.807617\n",
       "99          100   0.917283   0.806682\n",
       "\n",
       "[100 rows x 3 columns]"
      ]
     },
     "execution_count": 23,
     "metadata": {},
     "output_type": "execute_result"
    }
   ],
   "source": [
    "components_pca"
   ]
  },
  {
   "cell_type": "code",
   "execution_count": 24,
   "metadata": {},
   "outputs": [
    {
     "data": {
      "text/html": [
       "<div>\n",
       "<style scoped>\n",
       "    .dataframe tbody tr th:only-of-type {\n",
       "        vertical-align: middle;\n",
       "    }\n",
       "\n",
       "    .dataframe tbody tr th {\n",
       "        vertical-align: top;\n",
       "    }\n",
       "\n",
       "    .dataframe thead th {\n",
       "        text-align: right;\n",
       "    }\n",
       "</style>\n",
       "<table border=\"1\" class=\"dataframe\">\n",
       "  <thead>\n",
       "    <tr style=\"text-align: right;\">\n",
       "      <th></th>\n",
       "      <th>n_components</th>\n",
       "      <th>SVC_score</th>\n",
       "      <th>knn_score</th>\n",
       "    </tr>\n",
       "  </thead>\n",
       "  <tbody>\n",
       "    <tr>\n",
       "      <th>91</th>\n",
       "      <td>92</td>\n",
       "      <td>0.915838</td>\n",
       "      <td>0.810593</td>\n",
       "    </tr>\n",
       "  </tbody>\n",
       "</table>\n",
       "</div>"
      ],
      "text/plain": [
       "   n_components  SVC_score  knn_score\n",
       "91           92   0.915838   0.810593"
      ]
     },
     "execution_count": 24,
     "metadata": {},
     "output_type": "execute_result"
    }
   ],
   "source": [
    "components_pca[components_pca['knn_score']==components_pca['knn_score'].max()]"
   ]
  },
  {
   "cell_type": "code",
   "execution_count": 25,
   "metadata": {},
   "outputs": [
    {
     "data": {
      "text/html": [
       "<div>\n",
       "<style scoped>\n",
       "    .dataframe tbody tr th:only-of-type {\n",
       "        vertical-align: middle;\n",
       "    }\n",
       "\n",
       "    .dataframe tbody tr th {\n",
       "        vertical-align: top;\n",
       "    }\n",
       "\n",
       "    .dataframe thead th {\n",
       "        text-align: right;\n",
       "    }\n",
       "</style>\n",
       "<table border=\"1\" class=\"dataframe\">\n",
       "  <thead>\n",
       "    <tr style=\"text-align: right;\">\n",
       "      <th></th>\n",
       "      <th>n_components</th>\n",
       "      <th>SVC_score</th>\n",
       "      <th>knn_score</th>\n",
       "    </tr>\n",
       "  </thead>\n",
       "  <tbody>\n",
       "    <tr>\n",
       "      <th>99</th>\n",
       "      <td>100</td>\n",
       "      <td>0.917283</td>\n",
       "      <td>0.806682</td>\n",
       "    </tr>\n",
       "  </tbody>\n",
       "</table>\n",
       "</div>"
      ],
      "text/plain": [
       "   n_components  SVC_score  knn_score\n",
       "99          100   0.917283   0.806682"
      ]
     },
     "execution_count": 25,
     "metadata": {},
     "output_type": "execute_result"
    }
   ],
   "source": [
    "components_pca[components_pca['SVC_score']==components_pca['SVC_score'].max()]"
   ]
  },
  {
   "cell_type": "code",
   "execution_count": null,
   "metadata": {},
   "outputs": [],
   "source": []
  }
 ],
 "metadata": {
  "kernelspec": {
   "display_name": "traffic_sign",
   "language": "python",
   "name": "python3"
  },
  "language_info": {
   "codemirror_mode": {
    "name": "ipython",
    "version": 3
   },
   "file_extension": ".py",
   "mimetype": "text/x-python",
   "name": "python",
   "nbconvert_exporter": "python",
   "pygments_lexer": "ipython3",
   "version": "3.7.16"
  },
  "orig_nbformat": 4,
  "vscode": {
   "interpreter": {
    "hash": "e4cb27eaf2aac4817cc788cae675b835755493b0c1d654b08ba23bc5c99a0714"
   }
  }
 },
 "nbformat": 4,
 "nbformat_minor": 2
}
