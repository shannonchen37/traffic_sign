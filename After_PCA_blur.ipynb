{
 "cells": [
  {
   "cell_type": "code",
   "execution_count": 1,
   "metadata": {},
   "outputs": [],
   "source": [
    "import numpy as np\n",
    "import matplotlib.pyplot as plt\n",
    "import os\n",
    "import pandas as pd\n",
    "import cv2\n",
    "from PIL import Image\n",
    "from sklearn.metrics import accuracy_score"
   ]
  },
  {
   "cell_type": "code",
   "execution_count": 2,
   "metadata": {},
   "outputs": [],
   "source": [
    "train_path = './Dataset_2/Train/'\n",
    "test_path = 'Dataset_2/Test/'\n",
    "data_dir = './Dataset_2'\n",
    "\n",
    "train_lable = 'Dataset_2/Train.csv'\n",
    "test_lable = 'Dataset_2/Test.csv'"
   ]
  },
  {
   "cell_type": "code",
   "execution_count": 3,
   "metadata": {},
   "outputs": [
    {
     "name": "stdout",
     "output_type": "stream",
     "text": [
      "43\n",
      "['12', '16', '19', '32', '28', '30', '40', '24', '4', '2', '14', '38', '9', '20', '3', '41', '7', '0', '17', '39', '34', '22', '33', '8', '42', '1', '5', '27', '31', '26', '10', '25', '35', '6', '36', '15', '37', '23', '21', '18', '11', '29', '13']\n"
     ]
    }
   ],
   "source": [
    "NUM_CATEGORIES = len(os.listdir(train_path))\n",
    "NAME_CATEGORIES = os.listdir(train_path)\n",
    "print(NUM_CATEGORIES)\n",
    "print(NAME_CATEGORIES)"
   ]
  },
  {
   "cell_type": "code",
   "execution_count": 4,
   "metadata": {},
   "outputs": [],
   "source": [
    "# Resizing the images to 30x30x3\n",
    "IMG_HEIGHT = 30\n",
    "IMG_WIDTH = 30\n",
    "channels = 3"
   ]
  },
  {
   "cell_type": "code",
   "execution_count": 5,
   "metadata": {},
   "outputs": [],
   "source": [
    "# move resize\n",
    "image_data = []\n",
    "image_labels = []\n",
    "\n",
    "for i in range(NUM_CATEGORIES):\n",
    "    path = data_dir + '/Train/' + str(i)\n",
    "    images = os.listdir(path)\n",
    "    for img in images:\n",
    "        try:\n",
    "            image = cv2.imread(path + '/' + img)\n",
    "            image_fromarray = Image.fromarray(image, 'RGB')\n",
    "            #列表不够整齐，如果创建多维列表，子列表中的元素得个数一致，如果不一致，那么默认还是一维列表，把子列表当做元素而已\n",
    "            resize_image = image_fromarray.resize((IMG_HEIGHT, IMG_WIDTH))      \n",
    "            imgray = cv2.cvtColor(np.array(resize_image), cv2.COLOR_BGR2GRAY)\n",
    "            equ = cv2.equalizeHist(imgray)\n",
    "            blur = cv2.blur(equ,(3,3))\n",
    "            flat_arr=blur.ravel()\n",
    "            image_data.append(flat_arr)\n",
    "            image_labels.append(i)\n",
    "        except:\n",
    "            print(\"Error in \" + img)"
   ]
  },
  {
   "cell_type": "code",
   "execution_count": null,
   "metadata": {},
   "outputs": [],
   "source": [
    "test = pd.read_csv(data_dir + '/Test.csv')\n",
    "labels = test[\"ClassId\"].values\n",
    "imgs = test[\"Path\"].values\n",
    "test_data =[]\n",
    "for img in imgs:\n",
    "    try:\n",
    "        image = cv2.imread(data_dir + '/' +img)\n",
    "        image_fromarray = Image.fromarray(image, 'RGB')\n",
    "        resize_image = image_fromarray.resize((IMG_HEIGHT, IMG_WIDTH))\n",
    "        imgray = cv2.cvtColor(np.array(resize_image), cv2.COLOR_BGR2GRAY)\n",
    "        equ = cv2.equalizeHist(imgray)\n",
    "        blur = cv2.blur(equ,(3,3))\n",
    "        flat_arr=blur.ravel()\n",
    "        test_data.append(np.array(flat_arr))\n",
    "    except:\n",
    "        print(\"Error in \" + img)"
   ]
  },
  {
   "cell_type": "code",
   "execution_count": null,
   "metadata": {},
   "outputs": [],
   "source": [
    "X_test = np.array(test_data)\n",
    "X_test = X_test/255"
   ]
  },
  {
   "cell_type": "code",
   "execution_count": null,
   "metadata": {},
   "outputs": [],
   "source": [
    "img_dict={\"images\":np.array(imgray),\"data\":np.array(image_data),\"target\":np.array(image_labels)}\n",
    "train = img_dict['data']/255"
   ]
  },
  {
   "cell_type": "code",
   "execution_count": null,
   "metadata": {},
   "outputs": [],
   "source": [
    "from sklearn.model_selection import train_test_split\n",
    "X_train, X_val, y_train, y_val = train_test_split(train, img_dict['target'], test_size=0.3, random_state=0, shuffle=True)"
   ]
  },
  {
   "cell_type": "code",
   "execution_count": null,
   "metadata": {},
   "outputs": [],
   "source": [
    "# 95% of variance\n",
    "from sklearn.decomposition import PCA\n",
    "# pca = PCA(n_components = 0.95)\n",
    "pca=PCA(n_components=100,whiten=True,random_state=0)\n",
    "pca.fit(X_train)\n",
    "pca.fit(X_val)\n",
    "pca.fit(X_test)\n",
    "X_train_pca = pca.transform(X_train)\n",
    "X_val_pca = pca.transform(X_val)\n",
    "X_test_pca = pca.transform(X_test)"
   ]
  },
  {
   "cell_type": "code",
   "execution_count": null,
   "metadata": {},
   "outputs": [
    {
     "name": "stdout",
     "output_type": "stream",
     "text": [
      "Single Tree:0.41094958769021506 Random Forest:0.7980957238799626\n"
     ]
    }
   ],
   "source": [
    "from sklearn.tree import DecisionTreeClassifier\n",
    "from sklearn.ensemble import RandomForestClassifier\n",
    "\n",
    "dtc = DecisionTreeClassifier(random_state=0)\n",
    "rfc = RandomForestClassifier(random_state=0)\n",
    "dtc = dtc.fit(X_train_pca,y_train)\n",
    "rfc = rfc.fit(X_train_pca,y_train)\n",
    "score_c = dtc.score(X_val_pca,y_val)\n",
    "score_r = rfc.score(X_val_pca,y_val)\n",
    "print(\"Single Tree:{}\".format(score_c),\"Random Forest:{}\".format(score_r))"
   ]
  },
  {
   "cell_type": "code",
   "execution_count": null,
   "metadata": {},
   "outputs": [
    {
     "name": "stdout",
     "output_type": "stream",
     "text": [
      "Single Tree Test Data accuracy:  0.29612034837688045\n",
      "Randomforest Test Data accuracy:  0.6006334125098971\n"
     ]
    }
   ],
   "source": [
    "dtc_pred = dtc.predict(X_test_pca)\n",
    "rf_pred = rfc.predict(X_test_pca)\n",
    "\n",
    "#Accuracy with the test data\n",
    "print('Single Tree Test Data accuracy: ',accuracy_score(labels,dtc_pred))\n",
    "print('Randomforest Test Data accuracy: ',accuracy_score(labels,rf_pred))"
   ]
  },
  {
   "cell_type": "code",
   "execution_count": null,
   "metadata": {},
   "outputs": [
    {
     "name": "stdout",
     "output_type": "stream",
     "text": [
      "准确率： 0.6433732891269234\n"
     ]
    }
   ],
   "source": [
    "from sklearn.naive_bayes import GaussianNB\n",
    "gnb = GaussianNB().fit(X_train_pca,y_train)\n",
    "score = gnb.score(X_val_pca,y_val)\n",
    "print('准确率：',score)"
   ]
  },
  {
   "cell_type": "code",
   "execution_count": null,
   "metadata": {},
   "outputs": [
    {
     "name": "stdout",
     "output_type": "stream",
     "text": [
      "Gaussian naive bayes Test Data accuracy:  0.5665083135391924\n"
     ]
    }
   ],
   "source": [
    "gnb_pred = gnb.predict(X_test_pca)\n",
    "print('Gaussian naive bayes Test Data accuracy: ',accuracy_score(labels,gnb_pred))"
   ]
  },
  {
   "cell_type": "code",
   "execution_count": null,
   "metadata": {},
   "outputs": [
    {
     "name": "stdout",
     "output_type": "stream",
     "text": [
      "0.9111621185071835\n"
     ]
    }
   ],
   "source": [
    "from sklearn.svm import SVC\n",
    "svc = SVC(kernel=\"linear\",random_state=0)\n",
    "svc.fit(X_train_pca, y_train)#训练\n",
    "y_predict = svc.predict(X_val_pca)#预测\n",
    "print(accuracy_score(y_val, y_predict))#评分"
   ]
  },
  {
   "cell_type": "code",
   "execution_count": null,
   "metadata": {},
   "outputs": [
    {
     "name": "stdout",
     "output_type": "stream",
     "text": [
      "SVC Test Data accuracy:  0.8073634204275535\n"
     ]
    }
   ],
   "source": [
    "svc_pred = svc.predict(X_test_pca)\n",
    "print('SVC Test Data accuracy: ',accuracy_score(labels,svc_pred))"
   ]
  },
  {
   "cell_type": "code",
   "execution_count": null,
   "metadata": {},
   "outputs": [
    {
     "name": "stdout",
     "output_type": "stream",
     "text": [
      "0.9111621185071835\n"
     ]
    }
   ],
   "source": [
    "from sklearn.neighbors import KNeighborsClassifier\n",
    "knn=KNeighborsClassifier(n_neighbors=9)\n",
    "knn.fit(X_train_pca,y_train)\n",
    "y_predict = svc.predict(X_val_pca)\n",
    "print(accuracy_score(y_val, y_predict)) #评分"
   ]
  },
  {
   "cell_type": "code",
   "execution_count": null,
   "metadata": {},
   "outputs": [
    {
     "name": "stdout",
     "output_type": "stream",
     "text": [
      "0.9111621185071835\n"
     ]
    }
   ],
   "source": [
    "from sklearn.neighbors import KNeighborsClassifier\n",
    "knn=KNeighborsClassifier(n_neighbors=9)\n",
    "knn.fit(X_train_pca,y_train)\n",
    "y_predict = svc.predict(X_val_pca)\n",
    "print(accuracy_score(y_val, y_predict)) #评分"
   ]
  },
  {
   "cell_type": "code",
   "execution_count": null,
   "metadata": {},
   "outputs": [
    {
     "name": "stdout",
     "output_type": "stream",
     "text": [
      "0.5007125890736343\n"
     ]
    }
   ],
   "source": [
    "knn_pred = knn.predict(X_test_pca)\n",
    "print(accuracy_score(labels,knn_pred))"
   ]
  },
  {
   "cell_type": "code",
   "execution_count": null,
   "metadata": {},
   "outputs": [],
   "source": [
    "# from xgboost import XGBClassifier\n",
    "# clf_xgb = XGBClassifier()\n",
    "# clf_xgb.fit(X_train_pca, y_train)\n",
    "# y_pred = clf_xgb.predict(X_val_pca)\n",
    "# accuracy = accuracy_score(y_val, y_pred)\n",
    "# print(f'val XGB: {accuracy}')"
   ]
  },
  {
   "cell_type": "code",
   "execution_count": null,
   "metadata": {},
   "outputs": [],
   "source": [
    "# adaboost_pred = clf_xgb.predict(X_test_pca)\n",
    "# print('adaboost Test Data accuracy: ',accuracy_score(labels,adaboost_pred))"
   ]
  }
 ],
 "metadata": {
  "kernelspec": {
   "display_name": "traffic_sign",
   "language": "python",
   "name": "python3"
  },
  "language_info": {
   "codemirror_mode": {
    "name": "ipython",
    "version": 3
   },
   "file_extension": ".py",
   "mimetype": "text/x-python",
   "name": "python",
   "nbconvert_exporter": "python",
   "pygments_lexer": "ipython3",
   "version": "3.7.16"
  },
  "orig_nbformat": 4,
  "vscode": {
   "interpreter": {
    "hash": "e4cb27eaf2aac4817cc788cae675b835755493b0c1d654b08ba23bc5c99a0714"
   }
  }
 },
 "nbformat": 4,
 "nbformat_minor": 2
}
