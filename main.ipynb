{
 "cells": [
  {
   "cell_type": "code",
   "execution_count": 22,
   "metadata": {},
   "outputs": [],
   "source": [
    "import numpy as np\n",
    "import matplotlib.pyplot as plt\n",
    "import os\n",
    "import pandas as pd\n",
    "import cv2\n",
    "from PIL import Image\n",
    "from sklearn.metrics import accuracy_score"
   ]
  },
  {
   "cell_type": "code",
   "execution_count": 23,
   "metadata": {},
   "outputs": [],
   "source": [
    "train_path = './Dataset_2/Train/'\n",
    "test_path = 'Dataset_2/Test/'\n",
    "data_dir = './Dataset_2'\n",
    "\n",
    "train_lable = 'Dataset_2/Train.csv'\n",
    "test_lable = 'Dataset_2/Test.csv'"
   ]
  },
  {
   "cell_type": "code",
   "execution_count": 24,
   "metadata": {},
   "outputs": [
    {
     "name": "stdout",
     "output_type": "stream",
     "text": [
      "43\n",
      "['12', '16', '19', '32', '28', '30', '40', '24', '4', '2', '14', '38', '9', '20', '3', '41', '7', '0', '17', '39', '34', '22', '33', '8', '42', '1', '5', '27', '31', '26', '10', '25', '35', '6', '36', '15', '37', '23', '21', '18', '11', '29', '13']\n"
     ]
    }
   ],
   "source": [
    "NUM_CATEGORIES = len(os.listdir(train_path))\n",
    "NAME_CATEGORIES = os.listdir(train_path)\n",
    "print(NUM_CATEGORIES)\n",
    "print(NAME_CATEGORIES)"
   ]
  },
  {
   "cell_type": "code",
   "execution_count": 25,
   "metadata": {},
   "outputs": [],
   "source": [
    "# Resizing the images to 30x30x3\n",
    "IMG_HEIGHT = 30\n",
    "IMG_WIDTH = 30\n",
    "channels = 3"
   ]
  },
  {
   "cell_type": "code",
   "execution_count": 26,
   "metadata": {},
   "outputs": [],
   "source": [
    "# move resize\n",
    "image_data = []\n",
    "image_labels = []\n",
    "\n",
    "for i in range(NUM_CATEGORIES):\n",
    "    path = data_dir + '/Train/' + str(i)\n",
    "    images = os.listdir(path)\n",
    "    for img in images:\n",
    "        try:\n",
    "            image = cv2.imread(path + '/' + img)\n",
    "            image_fromarray = Image.fromarray(image, 'RGB')\n",
    "            #列表不够整齐，如果创建多维列表，子列表中的元素得个数一致，如果不一致，那么默认还是一维列表，把子列表当做元素而已\n",
    "            resize_image = image_fromarray.resize((IMG_HEIGHT, IMG_WIDTH))      \n",
    "            imgray = cv2.cvtColor(np.array(resize_image), cv2.COLOR_BGR2GRAY)\n",
    "            flat_arr=imgray.ravel()\n",
    "            image_data.append(flat_arr)\n",
    "            image_labels.append(i)\n",
    "        except:\n",
    "            print(\"Error in \" + img)"
   ]
  },
  {
   "cell_type": "code",
   "execution_count": null,
   "metadata": {},
   "outputs": [],
   "source": [
    "test = pd.read_csv(data_dir + '/Test.csv')\n",
    "labels = test[\"ClassId\"].values\n",
    "imgs = test[\"Path\"].values\n",
    "test_data =[]\n",
    "for img in imgs:\n",
    "    try:\n",
    "        image = cv2.imread(data_dir + '/' +img)\n",
    "        image_fromarray = Image.fromarray(image, 'RGB')\n",
    "        resize_image = image_fromarray.resize((IMG_HEIGHT, IMG_WIDTH))\n",
    "        imgray = cv2.cvtColor(np.array(resize_image), cv2.COLOR_BGR2GRAY)\n",
    "        flat_arr=imgray.ravel()\n",
    "        test_data.append(np.array(flat_arr))\n",
    "    except:\n",
    "        print(\"Error in \" + img)"
   ]
  },
  {
   "cell_type": "code",
   "execution_count": null,
   "metadata": {},
   "outputs": [],
   "source": [
    "X_test = np.array(test_data)\n",
    "X_test = X_test/255"
   ]
  },
  {
   "cell_type": "code",
   "execution_count": null,
   "metadata": {},
   "outputs": [],
   "source": [
    "img_dict={\"images\":np.array(imgray),\"data\":np.array(image_data),\"target\":np.array(image_labels)}\n",
    "train = img_dict['data']/255"
   ]
  },
  {
   "cell_type": "code",
   "execution_count": null,
   "metadata": {},
   "outputs": [],
   "source": [
    "from sklearn.model_selection import train_test_split\n",
    "X_train, X_val, y_train, y_val = train_test_split(train, img_dict['target'], test_size=0.3, random_state=0, shuffle=True)"
   ]
  },
  {
   "attachments": {},
   "cell_type": "markdown",
   "metadata": {},
   "source": [
    "# RandomForest"
   ]
  },
  {
   "cell_type": "code",
   "execution_count": null,
   "metadata": {},
   "outputs": [
    {
     "name": "stdout",
     "output_type": "stream",
     "text": [
      "Single Tree:0.7500637592450905 Random Forest:0.9729660800816118\n"
     ]
    }
   ],
   "source": [
    "from sklearn.tree import DecisionTreeClassifier\n",
    "from sklearn.ensemble import RandomForestClassifier\n",
    "\n",
    "dtc = DecisionTreeClassifier(random_state=0)\n",
    "rfc = RandomForestClassifier(random_state=0)\n",
    "dtc = dtc.fit(X_train,y_train)\n",
    "rfc = rfc.fit(X_train,y_train)\n",
    "score_c = dtc.score(X_val,y_val)\n",
    "score_r = rfc.score(X_val,y_val)\n",
    "print(\"Single Tree:{}\".format(score_c),\"Random Forest:{}\".format(score_r))"
   ]
  },
  {
   "cell_type": "code",
   "execution_count": null,
   "metadata": {},
   "outputs": [
    {
     "name": "stdout",
     "output_type": "stream",
     "text": [
      "Single Tree Test Data accuracy:  0.5429928741092637\n",
      "Randomforest Test Data accuracy:  0.7566112430720506\n"
     ]
    }
   ],
   "source": [
    "dtc_pred = dtc.predict(X_test)\n",
    "rf_pred = rfc.predict(X_test)\n",
    "\n",
    "#Accuracy with the test data\n",
    "print('Single Tree Test Data accuracy: ',accuracy_score(labels,dtc_pred))\n",
    "print('Randomforest Test Data accuracy: ',accuracy_score(labels,rf_pred))"
   ]
  },
  {
   "attachments": {},
   "cell_type": "markdown",
   "metadata": {},
   "source": [
    "# GaussianNB"
   ]
  },
  {
   "cell_type": "code",
   "execution_count": null,
   "metadata": {},
   "outputs": [
    {
     "name": "stdout",
     "output_type": "stream",
     "text": [
      "准确率： 0.12173765195953413\n"
     ]
    }
   ],
   "source": [
    "from sklearn.naive_bayes import GaussianNB\n",
    "gnb = GaussianNB().fit(X_train,y_train)\n",
    "score = gnb.score(X_val,y_val)\n",
    "print('准确率：',score)"
   ]
  },
  {
   "cell_type": "code",
   "execution_count": null,
   "metadata": {},
   "outputs": [
    {
     "name": "stdout",
     "output_type": "stream",
     "text": [
      "Gaussian naive bayes Test Data accuracy:  0.10577988915281077\n"
     ]
    }
   ],
   "source": [
    "gnb_pred = gnb.predict(X_test)\n",
    "print('Gaussian naive bayes Test Data accuracy: ',accuracy_score(labels,gnb_pred))"
   ]
  },
  {
   "attachments": {},
   "cell_type": "markdown",
   "metadata": {},
   "source": [
    "### KNN中k=1时，意味着什么？如何解决？"
   ]
  },
  {
   "attachments": {},
   "cell_type": "markdown",
   "metadata": {},
   "source": [
    "# SVM"
   ]
  },
  {
   "cell_type": "code",
   "execution_count": null,
   "metadata": {},
   "outputs": [
    {
     "name": "stdout",
     "output_type": "stream",
     "text": [
      "0.9380260137719969\n"
     ]
    }
   ],
   "source": [
    "from sklearn.svm import SVC\n",
    "svc = SVC(kernel=\"linear\",random_state=0)\n",
    "svc.fit(X_train, y_train)#训练\n",
    "y_predict = svc.predict(X_val)#预测\n",
    "print(accuracy_score(y_val, y_predict))#评分"
   ]
  },
  {
   "cell_type": "code",
   "execution_count": null,
   "metadata": {},
   "outputs": [
    {
     "name": "stdout",
     "output_type": "stream",
     "text": [
      "SVC Test Data accuracy:  0.8122723673792558\n"
     ]
    }
   ],
   "source": [
    "svc_pred = svc.predict(X_test)\n",
    "print('SVC Test Data accuracy: ',accuracy_score(labels,svc_pred))"
   ]
  },
  {
   "attachments": {},
   "cell_type": "markdown",
   "metadata": {},
   "source": [
    "# KNeighborsClassifier"
   ]
  },
  {
   "cell_type": "code",
   "execution_count": null,
   "metadata": {},
   "outputs": [
    {
     "name": "stdout",
     "output_type": "stream",
     "text": [
      "k = 1, acc = 0.9060613788999405\n",
      "k = 3, acc = 0.860154722434753\n",
      "k = 5, acc = 0.8301453710788065\n",
      "k = 7, acc = 0.8030264388336309\n",
      "k = 9, acc = 0.7806681968885488\n",
      "k = 11, acc = 0.7613703987078126\n",
      "k = 13, acc = 0.7418175635467142\n",
      "k = 15, acc = 0.7233698886338519\n",
      "k = 17, acc = 0.7085777437728471\n"
     ]
    }
   ],
   "source": [
    "from sklearn.neighbors import KNeighborsClassifier\n",
    "n_neighbors = [1,3,5,7,9,11,13,15,17]\n",
    "accuracy_val_knn = []\n",
    "for k in n_neighbors:\n",
    "    knn=KNeighborsClassifier(n_neighbors=k)\n",
    "    knn.fit(X_train,y_train)\n",
    "    prediction=knn.predict(X_val)\n",
    "    acc = accuracy_score(y_val,prediction)\n",
    "    accuracy_val_knn.append(acc)\n",
    "    print(\"k = {}, acc = {}\".format(k,acc))"
   ]
  },
  {
   "cell_type": "code",
   "execution_count": null,
   "metadata": {},
   "outputs": [
    {
     "data": {
      "image/png": "[encoded data removed]",
      "text/plain": [
       "<Figure size 640x480 with 1 Axes>"
      ]
     },
     "metadata": {},
     "output_type": "display_data"
    }
   ],
   "source": [
    "plt.clf()\n",
    "plt.plot(n_neighbors, accuracy_val_knn, \"-or\")\n",
    "plt.xlabel('n neighbors')\n",
    "plt.ylabel('accuracy')\n",
    "plt.title('MNIST kNN - neighbors vs. accuracy')\n",
    "plt.show()"
   ]
  },
  {
   "cell_type": "code",
   "execution_count": null,
   "metadata": {},
   "outputs": [
    {
     "name": "stdout",
     "output_type": "stream",
     "text": [
      "评估最合适的K值为：1 其准确率为：0.89\n"
     ]
    }
   ],
   "source": [
    "from sklearn.model_selection import GridSearchCV\n",
    "from sklearn.neighbors import KNeighborsClassifier\n",
    "parameter = {'n_neighbors':[1,3,5,7,9,11]}\n",
    "knn = KNeighborsClassifier()\n",
    "knn_clf = GridSearchCV(knn,parameter,cv=5)\n",
    "knn_clf.fit(X_train,y_train)\n",
    "print(f'评估最合适的K值为：{(knn_clf.best_params_)[\"n_neighbors\"]}',\"其准确率为：%.2f\"%knn_clf.best_score_)"
   ]
  },
  {
   "cell_type": "code",
   "execution_count": null,
   "metadata": {},
   "outputs": [
    {
     "name": "stdout",
     "output_type": "stream",
     "text": [
      "k=1, KNN Test Data accuracy: 0.37094220110847187\n",
      "k=3, KNN Test Data accuracy: 0.3545526524148852\n",
      "k=5, KNN Test Data accuracy: 0.35162311955661124\n",
      "k=7, KNN Test Data accuracy: 0.3450514647664291\n",
      "k=9, KNN Test Data accuracy: 0.33784639746635\n",
      "k=11, KNN Test Data accuracy: 0.33317498020585906\n",
      "k=13, KNN Test Data accuracy: 0.33079968329374504\n",
      "k=15, KNN Test Data accuracy: 0.3276326207442597\n",
      "k=17, KNN Test Data accuracy: 0.3290577988915281\n"
     ]
    }
   ],
   "source": [
    "accuracy_test_knn = []\n",
    "for k in n_neighbors:\n",
    "    knn=KNeighborsClassifier(n_neighbors=k)\n",
    "    knn.fit(X_train,y_train)\n",
    "    knn_pred = knn.predict(X_test)\n",
    "    accuracy_test_knn.append(accuracy_score(labels,knn_pred))\n",
    "    print('k={}, KNN Test Data accuracy: {}'.format(k,accuracy_score(labels,knn_pred)))"
   ]
  },
  {
   "cell_type": "code",
   "execution_count": null,
   "metadata": {},
   "outputs": [
    {
     "name": "stdout",
     "output_type": "stream",
     "text": [
      "k = 1, acc = 0.8777522740797415\n",
      "k = 3, acc = 0.8480829720309445\n",
      "k = 5, acc = 0.8374564311825214\n",
      "k = 7, acc = 0.82385445889654\n",
      "k = 9, acc = 0.8141630536427782\n",
      "k = 11, acc = 0.8033664881407804\n",
      "k = 13, acc = 0.7939301198673808\n",
      "k = 15, acc = 0.7852588625350676\n",
      "k = 17, acc = 0.7802431352546119\n"
     ]
    }
   ],
   "source": [
    "from sklearn.decomposition import PCA\n",
    "pca=PCA(n_components=92,whiten=True,random_state=0).fit(X_train)\n",
    "X_train_pca=pca.transform(X_train)\n",
    "X_val_pca=pca.transform(X_val)\n",
    "X_test_pca=pca.transform(X_test)\n",
    "\n",
    "accuracy_val_knn_pca = []\n",
    "for k in n_neighbors:\n",
    "    knn=KNeighborsClassifier(n_neighbors=k)\n",
    "    knn.fit(X_train_pca,y_train)\n",
    "    knn_predict=knn.predict(X_val_pca)\n",
    "    acc = accuracy_score(y_val,knn_predict)\n",
    "    accuracy_val_knn_pca.append(acc)\n",
    "    print(\"k = {}, acc = {}\".format(k,acc))"
   ]
  },
  {
   "cell_type": "code",
   "execution_count": null,
   "metadata": {},
   "outputs": [
    {
     "name": "stdout",
     "output_type": "stream",
     "text": [
      "k=1, KNN Test Data accuracy: 0.5872525732383215\n",
      "k=3, KNN Test Data accuracy: 0.5933491686460808\n",
      "k=5, KNN Test Data accuracy: 0.6025336500395883\n",
      "k=7, KNN Test Data accuracy: 0.6092636579572447\n",
      "k=9, KNN Test Data accuracy: 0.6152810768012669\n",
      "k=11, KNN Test Data accuracy: 0.6144101346001584\n",
      "k=13, KNN Test Data accuracy: 0.6149643705463183\n",
      "k=15, KNN Test Data accuracy: 0.6149643705463183\n",
      "k=17, KNN Test Data accuracy: 0.6155977830562154\n"
     ]
    }
   ],
   "source": [
    "accuracy_test_knn_pca = []\n",
    "for k in n_neighbors:\n",
    "    knn=KNeighborsClassifier(n_neighbors=k)\n",
    "    knn.fit(X_train_pca,y_train)\n",
    "    knn_pred = knn.predict(X_test_pca)\n",
    "    accuracy_test_knn_pca.append(accuracy_score(labels,knn_pred))\n",
    "    print('k={}, KNN Test Data accuracy: {}'.format(k,accuracy_score(labels,knn_pred)))"
   ]
  },
  {
   "attachments": {},
   "cell_type": "markdown",
   "metadata": {},
   "source": [
    "# Adaboost"
   ]
  },
  {
   "cell_type": "markdown",
   "metadata": {},
   "source": []
  }
 ],
 "metadata": {
  "kernelspec": {
   "display_name": "traffic_sign",
   "language": "python",
   "name": "python3"
  },
  "language_info": {
   "codemirror_mode": {
    "name": "ipython",
    "version": 3
   },
   "file_extension": ".py",
   "mimetype": "text/x-python",
   "name": "python",
   "nbconvert_exporter": "python",
   "pygments_lexer": "ipython3",
   "version": "3.7.16"
  },
  "orig_nbformat": 4,
  "vscode": {
   "interpreter": {
    "hash": "e4cb27eaf2aac4817cc788cae675b835755493b0c1d654b08ba23bc5c99a0714"
   }
  }
 },
 "nbformat": 4,
 "nbformat_minor": 2
}
